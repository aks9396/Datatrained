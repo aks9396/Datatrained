{
 "cells": [
  {
   "cell_type": "markdown",
   "metadata": {},
   "source": [
    "# Importing Initital Libraries"
   ]
  },
  {
   "cell_type": "code",
   "execution_count": 1,
   "metadata": {},
   "outputs": [],
   "source": [
    "import numpy as np, pandas as pd, matplotlib.pyplot as plt, seaborn as sns"
   ]
  },
  {
   "cell_type": "markdown",
   "metadata": {},
   "source": [
    "# Loading data"
   ]
  },
  {
   "cell_type": "code",
   "execution_count": 2,
   "metadata": {},
   "outputs": [
    {
     "data": {
      "text/html": [
       "<div>\n",
       "<style scoped>\n",
       "    .dataframe tbody tr th:only-of-type {\n",
       "        vertical-align: middle;\n",
       "    }\n",
       "\n",
       "    .dataframe tbody tr th {\n",
       "        vertical-align: top;\n",
       "    }\n",
       "\n",
       "    .dataframe thead th {\n",
       "        text-align: right;\n",
       "    }\n",
       "</style>\n",
       "<table border=\"1\" class=\"dataframe\">\n",
       "  <thead>\n",
       "    <tr style=\"text-align: right;\">\n",
       "      <th></th>\n",
       "      <th>Province_State</th>\n",
       "      <th>Country_Region</th>\n",
       "      <th>Last_Update</th>\n",
       "      <th>Lat</th>\n",
       "      <th>Long_</th>\n",
       "      <th>Confirmed</th>\n",
       "      <th>Deaths</th>\n",
       "      <th>Recovered</th>\n",
       "      <th>Active</th>\n",
       "      <th>FIPS</th>\n",
       "      <th>Incident_Rate</th>\n",
       "      <th>People_Tested</th>\n",
       "      <th>People_Hospitalized</th>\n",
       "      <th>Mortality_Rate</th>\n",
       "      <th>UID</th>\n",
       "      <th>ISO3</th>\n",
       "      <th>Testing_Rate</th>\n",
       "      <th>Hospitalization_Rate</th>\n",
       "    </tr>\n",
       "  </thead>\n",
       "  <tbody>\n",
       "    <tr>\n",
       "      <th>0</th>\n",
       "      <td>Alabama</td>\n",
       "      <td>US</td>\n",
       "      <td>2020-05-21 02:32:54</td>\n",
       "      <td>32.3182</td>\n",
       "      <td>-86.9023</td>\n",
       "      <td>13052</td>\n",
       "      <td>522</td>\n",
       "      <td>NaN</td>\n",
       "      <td>12530.0</td>\n",
       "      <td>1</td>\n",
       "      <td>266.194321</td>\n",
       "      <td>164450.0</td>\n",
       "      <td>1493.0</td>\n",
       "      <td>3.999387</td>\n",
       "      <td>84000001</td>\n",
       "      <td>USA</td>\n",
       "      <td>3353.942386</td>\n",
       "      <td>11.438860</td>\n",
       "    </tr>\n",
       "    <tr>\n",
       "      <th>1</th>\n",
       "      <td>Alaska</td>\n",
       "      <td>US</td>\n",
       "      <td>2020-05-21 02:32:54</td>\n",
       "      <td>61.3707</td>\n",
       "      <td>-152.4044</td>\n",
       "      <td>401</td>\n",
       "      <td>10</td>\n",
       "      <td>352.0</td>\n",
       "      <td>39.0</td>\n",
       "      <td>2</td>\n",
       "      <td>54.815493</td>\n",
       "      <td>37045.0</td>\n",
       "      <td>NaN</td>\n",
       "      <td>2.493766</td>\n",
       "      <td>84000002</td>\n",
       "      <td>USA</td>\n",
       "      <td>5063.940017</td>\n",
       "      <td>NaN</td>\n",
       "    </tr>\n",
       "    <tr>\n",
       "      <th>2</th>\n",
       "      <td>American Samoa</td>\n",
       "      <td>US</td>\n",
       "      <td>2020-05-21 02:32:54</td>\n",
       "      <td>-14.2710</td>\n",
       "      <td>-170.1320</td>\n",
       "      <td>0</td>\n",
       "      <td>0</td>\n",
       "      <td>NaN</td>\n",
       "      <td>0.0</td>\n",
       "      <td>60</td>\n",
       "      <td>0.000000</td>\n",
       "      <td>124.0</td>\n",
       "      <td>NaN</td>\n",
       "      <td>NaN</td>\n",
       "      <td>16</td>\n",
       "      <td>ASM</td>\n",
       "      <td>222.857246</td>\n",
       "      <td>NaN</td>\n",
       "    </tr>\n",
       "    <tr>\n",
       "      <th>3</th>\n",
       "      <td>Arizona</td>\n",
       "      <td>US</td>\n",
       "      <td>2020-05-21 02:32:54</td>\n",
       "      <td>33.7298</td>\n",
       "      <td>-111.4312</td>\n",
       "      <td>14906</td>\n",
       "      <td>747</td>\n",
       "      <td>3773.0</td>\n",
       "      <td>10386.0</td>\n",
       "      <td>4</td>\n",
       "      <td>204.788838</td>\n",
       "      <td>165435.0</td>\n",
       "      <td>1792.0</td>\n",
       "      <td>5.011405</td>\n",
       "      <td>84000004</td>\n",
       "      <td>USA</td>\n",
       "      <td>2272.859351</td>\n",
       "      <td>12.022005</td>\n",
       "    </tr>\n",
       "    <tr>\n",
       "      <th>4</th>\n",
       "      <td>Arkansas</td>\n",
       "      <td>US</td>\n",
       "      <td>2020-05-21 02:32:54</td>\n",
       "      <td>34.9697</td>\n",
       "      <td>-92.3731</td>\n",
       "      <td>5003</td>\n",
       "      <td>107</td>\n",
       "      <td>3852.0</td>\n",
       "      <td>1044.0</td>\n",
       "      <td>5</td>\n",
       "      <td>165.782801</td>\n",
       "      <td>96258.0</td>\n",
       "      <td>535.0</td>\n",
       "      <td>2.138717</td>\n",
       "      <td>84000005</td>\n",
       "      <td>USA</td>\n",
       "      <td>3189.670370</td>\n",
       "      <td>10.693584</td>\n",
       "    </tr>\n",
       "  </tbody>\n",
       "</table>\n",
       "</div>"
      ],
      "text/plain": [
       "   Province_State Country_Region          Last_Update      Lat     Long_  \\\n",
       "0         Alabama             US  2020-05-21 02:32:54  32.3182  -86.9023   \n",
       "1          Alaska             US  2020-05-21 02:32:54  61.3707 -152.4044   \n",
       "2  American Samoa             US  2020-05-21 02:32:54 -14.2710 -170.1320   \n",
       "3         Arizona             US  2020-05-21 02:32:54  33.7298 -111.4312   \n",
       "4        Arkansas             US  2020-05-21 02:32:54  34.9697  -92.3731   \n",
       "\n",
       "   Confirmed  Deaths  Recovered   Active  FIPS  Incident_Rate  People_Tested  \\\n",
       "0      13052     522        NaN  12530.0     1     266.194321       164450.0   \n",
       "1        401      10      352.0     39.0     2      54.815493        37045.0   \n",
       "2          0       0        NaN      0.0    60       0.000000          124.0   \n",
       "3      14906     747     3773.0  10386.0     4     204.788838       165435.0   \n",
       "4       5003     107     3852.0   1044.0     5     165.782801        96258.0   \n",
       "\n",
       "   People_Hospitalized  Mortality_Rate       UID ISO3  Testing_Rate  \\\n",
       "0               1493.0        3.999387  84000001  USA   3353.942386   \n",
       "1                  NaN        2.493766  84000002  USA   5063.940017   \n",
       "2                  NaN             NaN        16  ASM    222.857246   \n",
       "3               1792.0        5.011405  84000004  USA   2272.859351   \n",
       "4                535.0        2.138717  84000005  USA   3189.670370   \n",
       "\n",
       "   Hospitalization_Rate  \n",
       "0             11.438860  \n",
       "1                   NaN  \n",
       "2                   NaN  \n",
       "3             12.022005  \n",
       "4             10.693584  "
      ]
     },
     "execution_count": 2,
     "metadata": {},
     "output_type": "execute_result"
    }
   ],
   "source": [
    "df=pd.read_csv('US_covid_cases.csv')\n",
    "\n",
    "df.head()\n",
    "# for top 5 rows"
   ]
  },
  {
   "cell_type": "code",
   "execution_count": 3,
   "metadata": {},
   "outputs": [
    {
     "data": {
      "text/html": [
       "<div>\n",
       "<style scoped>\n",
       "    .dataframe tbody tr th:only-of-type {\n",
       "        vertical-align: middle;\n",
       "    }\n",
       "\n",
       "    .dataframe tbody tr th {\n",
       "        vertical-align: top;\n",
       "    }\n",
       "\n",
       "    .dataframe thead th {\n",
       "        text-align: right;\n",
       "    }\n",
       "</style>\n",
       "<table border=\"1\" class=\"dataframe\">\n",
       "  <thead>\n",
       "    <tr style=\"text-align: right;\">\n",
       "      <th></th>\n",
       "      <th>Province_State</th>\n",
       "      <th>Country_Region</th>\n",
       "      <th>Last_Update</th>\n",
       "      <th>Lat</th>\n",
       "      <th>Long_</th>\n",
       "      <th>Confirmed</th>\n",
       "      <th>Deaths</th>\n",
       "      <th>Recovered</th>\n",
       "      <th>Active</th>\n",
       "      <th>FIPS</th>\n",
       "      <th>Incident_Rate</th>\n",
       "      <th>People_Tested</th>\n",
       "      <th>People_Hospitalized</th>\n",
       "      <th>Mortality_Rate</th>\n",
       "      <th>UID</th>\n",
       "      <th>ISO3</th>\n",
       "      <th>Testing_Rate</th>\n",
       "      <th>Hospitalization_Rate</th>\n",
       "    </tr>\n",
       "  </thead>\n",
       "  <tbody>\n",
       "    <tr>\n",
       "      <th>53</th>\n",
       "      <td>Virginia</td>\n",
       "      <td>US</td>\n",
       "      <td>2020-05-21 02:32:54</td>\n",
       "      <td>37.7693</td>\n",
       "      <td>-78.1700</td>\n",
       "      <td>32908</td>\n",
       "      <td>1075</td>\n",
       "      <td>4523.0</td>\n",
       "      <td>27310.0</td>\n",
       "      <td>51</td>\n",
       "      <td>385.541875</td>\n",
       "      <td>212626.0</td>\n",
       "      <td>6059.0</td>\n",
       "      <td>3.266683</td>\n",
       "      <td>84000051</td>\n",
       "      <td>USA</td>\n",
       "      <td>2491.072892</td>\n",
       "      <td>18.411936</td>\n",
       "    </tr>\n",
       "    <tr>\n",
       "      <th>54</th>\n",
       "      <td>Washington</td>\n",
       "      <td>US</td>\n",
       "      <td>2020-05-21 02:32:54</td>\n",
       "      <td>47.4009</td>\n",
       "      <td>-121.4905</td>\n",
       "      <td>18971</td>\n",
       "      <td>1037</td>\n",
       "      <td>NaN</td>\n",
       "      <td>17934.0</td>\n",
       "      <td>53</td>\n",
       "      <td>249.130224</td>\n",
       "      <td>293120.0</td>\n",
       "      <td>NaN</td>\n",
       "      <td>5.466238</td>\n",
       "      <td>84000053</td>\n",
       "      <td>USA</td>\n",
       "      <td>3849.298999</td>\n",
       "      <td>NaN</td>\n",
       "    </tr>\n",
       "    <tr>\n",
       "      <th>55</th>\n",
       "      <td>West Virginia</td>\n",
       "      <td>US</td>\n",
       "      <td>2020-05-21 02:32:54</td>\n",
       "      <td>38.4912</td>\n",
       "      <td>-80.9545</td>\n",
       "      <td>1567</td>\n",
       "      <td>69</td>\n",
       "      <td>950.0</td>\n",
       "      <td>548.0</td>\n",
       "      <td>54</td>\n",
       "      <td>87.437024</td>\n",
       "      <td>80641.0</td>\n",
       "      <td>NaN</td>\n",
       "      <td>4.403318</td>\n",
       "      <td>84000054</td>\n",
       "      <td>USA</td>\n",
       "      <td>4499.686689</td>\n",
       "      <td>NaN</td>\n",
       "    </tr>\n",
       "    <tr>\n",
       "      <th>56</th>\n",
       "      <td>Wisconsin</td>\n",
       "      <td>US</td>\n",
       "      <td>2020-05-21 02:32:54</td>\n",
       "      <td>44.2685</td>\n",
       "      <td>-89.6165</td>\n",
       "      <td>13413</td>\n",
       "      <td>481</td>\n",
       "      <td>7728.0</td>\n",
       "      <td>5204.0</td>\n",
       "      <td>55</td>\n",
       "      <td>230.367575</td>\n",
       "      <td>167713.0</td>\n",
       "      <td>2161.0</td>\n",
       "      <td>3.586073</td>\n",
       "      <td>84000055</td>\n",
       "      <td>USA</td>\n",
       "      <td>2880.462020</td>\n",
       "      <td>16.111235</td>\n",
       "    </tr>\n",
       "    <tr>\n",
       "      <th>57</th>\n",
       "      <td>Wyoming</td>\n",
       "      <td>US</td>\n",
       "      <td>2020-05-21 02:32:54</td>\n",
       "      <td>42.7560</td>\n",
       "      <td>-107.3025</td>\n",
       "      <td>787</td>\n",
       "      <td>11</td>\n",
       "      <td>528.0</td>\n",
       "      <td>248.0</td>\n",
       "      <td>56</td>\n",
       "      <td>135.980607</td>\n",
       "      <td>18840.0</td>\n",
       "      <td>74.0</td>\n",
       "      <td>1.397713</td>\n",
       "      <td>84000056</td>\n",
       "      <td>USA</td>\n",
       "      <td>3255.240955</td>\n",
       "      <td>9.402795</td>\n",
       "    </tr>\n",
       "  </tbody>\n",
       "</table>\n",
       "</div>"
      ],
      "text/plain": [
       "   Province_State Country_Region          Last_Update      Lat     Long_  \\\n",
       "53       Virginia             US  2020-05-21 02:32:54  37.7693  -78.1700   \n",
       "54     Washington             US  2020-05-21 02:32:54  47.4009 -121.4905   \n",
       "55  West Virginia             US  2020-05-21 02:32:54  38.4912  -80.9545   \n",
       "56      Wisconsin             US  2020-05-21 02:32:54  44.2685  -89.6165   \n",
       "57        Wyoming             US  2020-05-21 02:32:54  42.7560 -107.3025   \n",
       "\n",
       "    Confirmed  Deaths  Recovered   Active  FIPS  Incident_Rate  People_Tested  \\\n",
       "53      32908    1075     4523.0  27310.0    51     385.541875       212626.0   \n",
       "54      18971    1037        NaN  17934.0    53     249.130224       293120.0   \n",
       "55       1567      69      950.0    548.0    54      87.437024        80641.0   \n",
       "56      13413     481     7728.0   5204.0    55     230.367575       167713.0   \n",
       "57        787      11      528.0    248.0    56     135.980607        18840.0   \n",
       "\n",
       "    People_Hospitalized  Mortality_Rate       UID ISO3  Testing_Rate  \\\n",
       "53               6059.0        3.266683  84000051  USA   2491.072892   \n",
       "54                  NaN        5.466238  84000053  USA   3849.298999   \n",
       "55                  NaN        4.403318  84000054  USA   4499.686689   \n",
       "56               2161.0        3.586073  84000055  USA   2880.462020   \n",
       "57                 74.0        1.397713  84000056  USA   3255.240955   \n",
       "\n",
       "    Hospitalization_Rate  \n",
       "53             18.411936  \n",
       "54                   NaN  \n",
       "55                   NaN  \n",
       "56             16.111235  \n",
       "57              9.402795  "
      ]
     },
     "execution_count": 3,
     "metadata": {},
     "output_type": "execute_result"
    }
   ],
   "source": [
    "df.tail()\n",
    "# for last 5 rows"
   ]
  },
  {
   "cell_type": "code",
   "execution_count": 4,
   "metadata": {},
   "outputs": [
    {
     "data": {
      "text/plain": [
       "(58, 18)"
      ]
     },
     "execution_count": 4,
     "metadata": {},
     "output_type": "execute_result"
    }
   ],
   "source": [
    "# finding shape of dataframe\n",
    "\n",
    "df.shape"
   ]
  },
  {
   "cell_type": "code",
   "execution_count": 5,
   "metadata": {},
   "outputs": [
    {
     "data": {
      "text/plain": [
       "Province_State           object\n",
       "Country_Region           object\n",
       "Last_Update              object\n",
       "Lat                     float64\n",
       "Long_                   float64\n",
       "Confirmed                 int64\n",
       "Deaths                    int64\n",
       "Recovered               float64\n",
       "Active                  float64\n",
       "FIPS                      int64\n",
       "Incident_Rate           float64\n",
       "People_Tested           float64\n",
       "People_Hospitalized     float64\n",
       "Mortality_Rate          float64\n",
       "UID                       int64\n",
       "ISO3                     object\n",
       "Testing_Rate            float64\n",
       "Hospitalization_Rate    float64\n",
       "dtype: object"
      ]
     },
     "execution_count": 5,
     "metadata": {},
     "output_type": "execute_result"
    }
   ],
   "source": [
    "df.dtypes"
   ]
  },
  {
   "cell_type": "code",
   "execution_count": 6,
   "metadata": {},
   "outputs": [
    {
     "data": {
      "text/plain": [
       "Index(['Province_State', 'Country_Region', 'Last_Update', 'Lat', 'Long_',\n",
       "       'Confirmed', 'Deaths', 'Recovered', 'Active', 'FIPS', 'Incident_Rate',\n",
       "       'People_Tested', 'People_Hospitalized', 'Mortality_Rate', 'UID', 'ISO3',\n",
       "       'Testing_Rate', 'Hospitalization_Rate'],\n",
       "      dtype='object')"
      ]
     },
     "execution_count": 6,
     "metadata": {},
     "output_type": "execute_result"
    }
   ],
   "source": [
    "df.columns"
   ]
  },
  {
   "cell_type": "code",
   "execution_count": 8,
   "metadata": {},
   "outputs": [
    {
     "name": "stdout",
     "output_type": "stream",
     "text": [
      "<class 'pandas.core.frame.DataFrame'>\n",
      "RangeIndex: 58 entries, 0 to 57\n",
      "Data columns (total 18 columns):\n",
      " #   Column                Non-Null Count  Dtype  \n",
      "---  ------                --------------  -----  \n",
      " 0   Province_State        58 non-null     object \n",
      " 1   Country_Region        58 non-null     object \n",
      " 2   Last_Update           58 non-null     object \n",
      " 3   Lat                   56 non-null     float64\n",
      " 4   Long_                 56 non-null     float64\n",
      " 5   Confirmed             58 non-null     int64  \n",
      " 6   Deaths                58 non-null     int64  \n",
      " 7   Recovered             42 non-null     float64\n",
      " 8   Active                58 non-null     float64\n",
      " 9   FIPS                  58 non-null     int64  \n",
      " 10  Incident_Rate         56 non-null     float64\n",
      " 11  People_Tested         56 non-null     float64\n",
      " 12  People_Hospitalized   33 non-null     float64\n",
      " 13  Mortality_Rate        57 non-null     float64\n",
      " 14  UID                   58 non-null     int64  \n",
      " 15  ISO3                  58 non-null     object \n",
      " 16  Testing_Rate          56 non-null     float64\n",
      " 17  Hospitalization_Rate  33 non-null     float64\n",
      "dtypes: float64(10), int64(4), object(4)\n",
      "memory usage: 8.3+ KB\n"
     ]
    }
   ],
   "source": [
    "df.info()"
   ]
  },
  {
   "cell_type": "code",
   "execution_count": 9,
   "metadata": {},
   "outputs": [
    {
     "data": {
      "text/plain": [
       "Province_State           0\n",
       "Country_Region           0\n",
       "Last_Update              0\n",
       "Lat                      2\n",
       "Long_                    2\n",
       "Confirmed                0\n",
       "Deaths                   0\n",
       "Recovered               16\n",
       "Active                   0\n",
       "FIPS                     0\n",
       "Incident_Rate            2\n",
       "People_Tested            2\n",
       "People_Hospitalized     25\n",
       "Mortality_Rate           1\n",
       "UID                      0\n",
       "ISO3                     0\n",
       "Testing_Rate             2\n",
       "Hospitalization_Rate    25\n",
       "dtype: int64"
      ]
     },
     "execution_count": 9,
     "metadata": {},
     "output_type": "execute_result"
    }
   ],
   "source": [
    "# checking for null values\n",
    "\n",
    "df.isnull().sum()"
   ]
  },
  {
   "cell_type": "code",
   "execution_count": 10,
   "metadata": {},
   "outputs": [
    {
     "data": {
      "text/plain": [
       "<matplotlib.axes._subplots.AxesSubplot at 0x1f9ea0519c8>"
      ]
     },
     "execution_count": 10,
     "metadata": {},
     "output_type": "execute_result"
    },
    {
     "data": {
      "image/png": "[encoded data removed]",
      "text/plain": [
       "<Figure size 432x288 with 2 Axes>"
      ]
     },
     "metadata": {
      "needs_background": "light"
     },
     "output_type": "display_data"
    }
   ],
   "source": [
    "# graphically checking null values\n",
    "\n",
    "sns.heatmap(df.isnull())"
   ]
  },
  {
   "cell_type": "code",
   "execution_count": 11,
   "metadata": {},
   "outputs": [],
   "source": [
    "#  from above we can see that there are lot of null value present in our data\n",
    "# So lets treat the null values first by filling them with there forward values.\n",
    "\n",
    "df_new=df.fillna(method='ffill')"
   ]
  },
  {
   "cell_type": "code",
   "execution_count": 12,
   "metadata": {},
   "outputs": [
    {
     "data": {
      "text/plain": [
       "Province_State          0\n",
       "Country_Region          0\n",
       "Last_Update             0\n",
       "Lat                     0\n",
       "Long_                   0\n",
       "Confirmed               0\n",
       "Deaths                  0\n",
       "Recovered               1\n",
       "Active                  0\n",
       "FIPS                    0\n",
       "Incident_Rate           0\n",
       "People_Tested           0\n",
       "People_Hospitalized     0\n",
       "Mortality_Rate          0\n",
       "UID                     0\n",
       "ISO3                    0\n",
       "Testing_Rate            0\n",
       "Hospitalization_Rate    0\n",
       "dtype: int64"
      ]
     },
     "execution_count": 12,
     "metadata": {},
     "output_type": "execute_result"
    }
   ],
   "source": [
    "df_new.isnull().sum()"
   ]
  },
  {
   "cell_type": "code",
   "execution_count": 13,
   "metadata": {},
   "outputs": [],
   "source": [
    "# there is still 1 null value present, so treat this one also with filling with its before values.\n",
    "\n",
    "df_new=df_new.fillna(method='bfill')"
   ]
  },
  {
   "cell_type": "code",
   "execution_count": 14,
   "metadata": {},
   "outputs": [
    {
     "data": {
      "text/plain": [
       "Province_State          0\n",
       "Country_Region          0\n",
       "Last_Update             0\n",
       "Lat                     0\n",
       "Long_                   0\n",
       "Confirmed               0\n",
       "Deaths                  0\n",
       "Recovered               0\n",
       "Active                  0\n",
       "FIPS                    0\n",
       "Incident_Rate           0\n",
       "People_Tested           0\n",
       "People_Hospitalized     0\n",
       "Mortality_Rate          0\n",
       "UID                     0\n",
       "ISO3                    0\n",
       "Testing_Rate            0\n",
       "Hospitalization_Rate    0\n",
       "dtype: int64"
      ]
     },
     "execution_count": 14,
     "metadata": {},
     "output_type": "execute_result"
    }
   ],
   "source": [
    "df_new.isnull().sum()"
   ]
  },
  {
   "cell_type": "markdown",
   "metadata": {},
   "source": [
    "Now there no null value present in our data"
   ]
  },
  {
   "cell_type": "code",
   "execution_count": 15,
   "metadata": {},
   "outputs": [
    {
     "data": {
      "text/html": [
       "<div>\n",
       "<style scoped>\n",
       "    .dataframe tbody tr th:only-of-type {\n",
       "        vertical-align: middle;\n",
       "    }\n",
       "\n",
       "    .dataframe tbody tr th {\n",
       "        vertical-align: top;\n",
       "    }\n",
       "\n",
       "    .dataframe thead th {\n",
       "        text-align: right;\n",
       "    }\n",
       "</style>\n",
       "<table border=\"1\" class=\"dataframe\">\n",
       "  <thead>\n",
       "    <tr style=\"text-align: right;\">\n",
       "      <th></th>\n",
       "      <th>Lat</th>\n",
       "      <th>Long_</th>\n",
       "      <th>Confirmed</th>\n",
       "      <th>Deaths</th>\n",
       "      <th>Recovered</th>\n",
       "      <th>Active</th>\n",
       "      <th>FIPS</th>\n",
       "      <th>Incident_Rate</th>\n",
       "      <th>People_Tested</th>\n",
       "      <th>People_Hospitalized</th>\n",
       "      <th>Mortality_Rate</th>\n",
       "      <th>UID</th>\n",
       "      <th>Testing_Rate</th>\n",
       "      <th>Hospitalization_Rate</th>\n",
       "    </tr>\n",
       "  </thead>\n",
       "  <tbody>\n",
       "    <tr>\n",
       "      <th>count</th>\n",
       "      <td>58.000000</td>\n",
       "      <td>58.000000</td>\n",
       "      <td>58.000000</td>\n",
       "      <td>58.000000</td>\n",
       "      <td>58.000000</td>\n",
       "      <td>58.000000</td>\n",
       "      <td>58.000000</td>\n",
       "      <td>58.000000</td>\n",
       "      <td>5.800000e+01</td>\n",
       "      <td>58.000000</td>\n",
       "      <td>58.000000</td>\n",
       "      <td>5.800000e+01</td>\n",
       "      <td>58.000000</td>\n",
       "      <td>58.000000</td>\n",
       "    </tr>\n",
       "    <tr>\n",
       "      <th>mean</th>\n",
       "      <td>36.817312</td>\n",
       "      <td>-85.012424</td>\n",
       "      <td>26756.086207</td>\n",
       "      <td>1611.017241</td>\n",
       "      <td>5651.862069</td>\n",
       "      <td>20070.724138</td>\n",
       "      <td>3288.086207</td>\n",
       "      <td>403.539087</td>\n",
       "      <td>2.257956e+05</td>\n",
       "      <td>5569.086207</td>\n",
       "      <td>4.424378</td>\n",
       "      <td>7.676194e+07</td>\n",
       "      <td>3905.743113</td>\n",
       "      <td>14.926238</td>\n",
       "    </tr>\n",
       "    <tr>\n",
       "      <th>std</th>\n",
       "      <td>10.711171</td>\n",
       "      <td>48.890699</td>\n",
       "      <td>52562.031122</td>\n",
       "      <td>4084.750891</td>\n",
       "      <td>10199.745207</td>\n",
       "      <td>41294.705318</td>\n",
       "      <td>17408.350591</td>\n",
       "      <td>399.869065</td>\n",
       "      <td>2.953990e+05</td>\n",
       "      <td>13919.410810</td>\n",
       "      <td>2.131854</td>\n",
       "      <td>2.378302e+07</td>\n",
       "      <td>1901.693125</td>\n",
       "      <td>5.765947</td>\n",
       "    </tr>\n",
       "    <tr>\n",
       "      <th>min</th>\n",
       "      <td>-14.271000</td>\n",
       "      <td>-170.132000</td>\n",
       "      <td>0.000000</td>\n",
       "      <td>0.000000</td>\n",
       "      <td>13.000000</td>\n",
       "      <td>0.000000</td>\n",
       "      <td>1.000000</td>\n",
       "      <td>0.000000</td>\n",
       "      <td>1.240000e+02</td>\n",
       "      <td>65.000000</td>\n",
       "      <td>0.000000</td>\n",
       "      <td>1.600000e+01</td>\n",
       "      <td>97.702058</td>\n",
       "      <td>6.778043</td>\n",
       "    </tr>\n",
       "    <tr>\n",
       "      <th>25%</th>\n",
       "      <td>34.102800</td>\n",
       "      <td>-99.697700</td>\n",
       "      <td>2596.000000</td>\n",
       "      <td>74.000000</td>\n",
       "      <td>970.000000</td>\n",
       "      <td>812.500000</td>\n",
       "      <td>18.250000</td>\n",
       "      <td>154.909239</td>\n",
       "      <td>4.563500e+04</td>\n",
       "      <td>559.000000</td>\n",
       "      <td>2.952622</td>\n",
       "      <td>8.400001e+07</td>\n",
       "      <td>2741.843521</td>\n",
       "      <td>10.000000</td>\n",
       "    </tr>\n",
       "    <tr>\n",
       "      <th>50%</th>\n",
       "      <td>39.061850</td>\n",
       "      <td>-86.797300</td>\n",
       "      <td>10148.500000</td>\n",
       "      <td>385.000000</td>\n",
       "      <td>1775.000000</td>\n",
       "      <td>5644.500000</td>\n",
       "      <td>32.500000</td>\n",
       "      <td>259.009335</td>\n",
       "      <td>1.386545e+05</td>\n",
       "      <td>1504.000000</td>\n",
       "      <td>4.382399</td>\n",
       "      <td>8.400003e+07</td>\n",
       "      <td>3501.526835</td>\n",
       "      <td>14.295576</td>\n",
       "    </tr>\n",
       "    <tr>\n",
       "      <th>75%</th>\n",
       "      <td>42.214075</td>\n",
       "      <td>-76.858275</td>\n",
       "      <td>29395.500000</td>\n",
       "      <td>1394.250000</td>\n",
       "      <td>4523.000000</td>\n",
       "      <td>19291.250000</td>\n",
       "      <td>47.750000</td>\n",
       "      <td>489.346967</td>\n",
       "      <td>2.838782e+05</td>\n",
       "      <td>6059.000000</td>\n",
       "      <td>5.450908</td>\n",
       "      <td>8.400004e+07</td>\n",
       "      <td>4663.552976</td>\n",
       "      <td>18.316630</td>\n",
       "    </tr>\n",
       "    <tr>\n",
       "      <th>max</th>\n",
       "      <td>61.370700</td>\n",
       "      <td>145.673900</td>\n",
       "      <td>354370.000000</td>\n",
       "      <td>28636.000000</td>\n",
       "      <td>61886.000000</td>\n",
       "      <td>263848.000000</td>\n",
       "      <td>99999.000000</td>\n",
       "      <td>1821.620216</td>\n",
       "      <td>1.505836e+06</td>\n",
       "      <td>76410.000000</td>\n",
       "      <td>9.545549</td>\n",
       "      <td>8.410000e+07</td>\n",
       "      <td>11377.424693</td>\n",
       "      <td>28.054438</td>\n",
       "    </tr>\n",
       "  </tbody>\n",
       "</table>\n",
       "</div>"
      ],
      "text/plain": [
       "             Lat       Long_      Confirmed        Deaths     Recovered  \\\n",
       "count  58.000000   58.000000      58.000000     58.000000     58.000000   \n",
       "mean   36.817312  -85.012424   26756.086207   1611.017241   5651.862069   \n",
       "std    10.711171   48.890699   52562.031122   4084.750891  10199.745207   \n",
       "min   -14.271000 -170.132000       0.000000      0.000000     13.000000   \n",
       "25%    34.102800  -99.697700    2596.000000     74.000000    970.000000   \n",
       "50%    39.061850  -86.797300   10148.500000    385.000000   1775.000000   \n",
       "75%    42.214075  -76.858275   29395.500000   1394.250000   4523.000000   \n",
       "max    61.370700  145.673900  354370.000000  28636.000000  61886.000000   \n",
       "\n",
       "              Active          FIPS  Incident_Rate  People_Tested  \\\n",
       "count      58.000000     58.000000      58.000000   5.800000e+01   \n",
       "mean    20070.724138   3288.086207     403.539087   2.257956e+05   \n",
       "std     41294.705318  17408.350591     399.869065   2.953990e+05   \n",
       "min         0.000000      1.000000       0.000000   1.240000e+02   \n",
       "25%       812.500000     18.250000     154.909239   4.563500e+04   \n",
       "50%      5644.500000     32.500000     259.009335   1.386545e+05   \n",
       "75%     19291.250000     47.750000     489.346967   2.838782e+05   \n",
       "max    263848.000000  99999.000000    1821.620216   1.505836e+06   \n",
       "\n",
       "       People_Hospitalized  Mortality_Rate           UID  Testing_Rate  \\\n",
       "count            58.000000       58.000000  5.800000e+01     58.000000   \n",
       "mean           5569.086207        4.424378  7.676194e+07   3905.743113   \n",
       "std           13919.410810        2.131854  2.378302e+07   1901.693125   \n",
       "min              65.000000        0.000000  1.600000e+01     97.702058   \n",
       "25%             559.000000        2.952622  8.400001e+07   2741.843521   \n",
       "50%            1504.000000        4.382399  8.400003e+07   3501.526835   \n",
       "75%            6059.000000        5.450908  8.400004e+07   4663.552976   \n",
       "max           76410.000000        9.545549  8.410000e+07  11377.424693   \n",
       "\n",
       "       Hospitalization_Rate  \n",
       "count             58.000000  \n",
       "mean              14.926238  \n",
       "std                5.765947  \n",
       "min                6.778043  \n",
       "25%               10.000000  \n",
       "50%               14.295576  \n",
       "75%               18.316630  \n",
       "max               28.054438  "
      ]
     },
     "execution_count": 15,
     "metadata": {},
     "output_type": "execute_result"
    }
   ],
   "source": [
    "# Getting some statistical features of data\n",
    "\n",
    "df_new.describe()"
   ]
  },
  {
   "cell_type": "markdown",
   "metadata": {},
   "source": [
    "From this we can easily see that there is huge difference between the 75 percentile and max values in various columns hence outliers are present n our data.\n",
    "\n",
    "Lets check this graphically by Boxplot"
   ]
  },
  {
   "cell_type": "code",
   "execution_count": 16,
   "metadata": {},
   "outputs": [
    {
     "data": {
      "text/plain": [
       "<matplotlib.axes._subplots.AxesSubplot at 0x1f9ea947748>"
      ]
     },
     "execution_count": 16,
     "metadata": {},
     "output_type": "execute_result"
    },
    {
     "data": {
      "image/png": "[encoded data removed]",
      "text/plain": [
       "<Figure size 432x288 with 1 Axes>"
      ]
     },
     "metadata": {
      "needs_background": "light"
     },
     "output_type": "display_data"
    }
   ],
   "source": [
    "df_new['Confirmed'].plot.box()"
   ]
  },
  {
   "cell_type": "code",
   "execution_count": 17,
   "metadata": {},
   "outputs": [
    {
     "data": {
      "text/plain": [
       "<matplotlib.axes._subplots.AxesSubplot at 0x1f9ea9bba48>"
      ]
     },
     "execution_count": 17,
     "metadata": {},
     "output_type": "execute_result"
    },
    {
     "data": {
      "image/png": "[encoded data removed]",
      "text/plain": [
       "<Figure size 432x288 with 1 Axes>"
      ]
     },
     "metadata": {
      "needs_background": "light"
     },
     "output_type": "display_data"
    }
   ],
   "source": [
    "df_new['Deaths'].plot.box()"
   ]
  },
  {
   "cell_type": "code",
   "execution_count": 18,
   "metadata": {},
   "outputs": [
    {
     "data": {
      "text/plain": [
       "<matplotlib.axes._subplots.AxesSubplot at 0x1f9eaa27748>"
      ]
     },
     "execution_count": 18,
     "metadata": {},
     "output_type": "execute_result"
    },
    {
     "data": {
      "image/png": "[encoded data removed]",
      "text/plain": [
       "<Figure size 432x288 with 1 Axes>"
      ]
     },
     "metadata": {
      "needs_background": "light"
     },
     "output_type": "display_data"
    }
   ],
   "source": [
    "df_new['Recovered'].plot.box()"
   ]
  },
  {
   "cell_type": "code",
   "execution_count": 19,
   "metadata": {},
   "outputs": [
    {
     "data": {
      "text/plain": [
       "<matplotlib.axes._subplots.AxesSubplot at 0x1f9eaa8cd88>"
      ]
     },
     "execution_count": 19,
     "metadata": {},
     "output_type": "execute_result"
    },
    {
     "data": {
      "image/png": "[encoded data removed]",
      "text/plain": [
       "<Figure size 432x288 with 1 Axes>"
      ]
     },
     "metadata": {
      "needs_background": "light"
     },
     "output_type": "display_data"
    }
   ],
   "source": [
    "df_new['Active'].plot.box()"
   ]
  },
  {
   "cell_type": "markdown",
   "metadata": {},
   "source": [
    "Similarly we can check for other columns too"
   ]
  },
  {
   "cell_type": "markdown",
   "metadata": {},
   "source": [
    "From the above plots we can see that there are outliers in our data. we will remove it later.\n"
   ]
  },
  {
   "cell_type": "markdown",
   "metadata": {},
   "source": [
    "# Univariate Analysis"
   ]
  },
  {
   "cell_type": "code",
   "execution_count": 21,
   "metadata": {},
   "outputs": [
    {
     "data": {
      "text/plain": [
       "<matplotlib.axes._subplots.AxesSubplot at 0x1f9eaa8cc88>"
      ]
     },
     "execution_count": 21,
     "metadata": {},
     "output_type": "execute_result"
    },
    {
     "data": {
      "image/png": "[encoded data removed]",
      "text/plain": [
       "<Figure size 432x288 with 1 Axes>"
      ]
     },
     "metadata": {
      "needs_background": "light"
     },
     "output_type": "display_data"
    }
   ],
   "source": [
    "sns.countplot(x='Country_Region',data=df_new)"
   ]
  },
  {
   "cell_type": "code",
   "execution_count": 34,
   "metadata": {},
   "outputs": [
    {
     "data": {
      "text/plain": [
       "<matplotlib.axes._subplots.AxesSubplot at 0x1f9ec2fc948>"
      ]
     },
     "execution_count": 34,
     "metadata": {},
     "output_type": "execute_result"
    },
    {
     "data": {
      "image/png": "[encoded data removed]",
      "text/plain": [
       "<Figure size 432x288 with 1 Axes>"
      ]
     },
     "metadata": {
      "needs_background": "light"
     },
     "output_type": "display_data"
    }
   ],
   "source": [
    "sns.countplot(x='Deaths',data=df_new)"
   ]
  },
  {
   "cell_type": "code",
   "execution_count": null,
   "metadata": {},
   "outputs": [],
   "source": []
  },
  {
   "cell_type": "markdown",
   "metadata": {},
   "source": [
    "# Bivariant analysis"
   ]
  },
  {
   "cell_type": "code",
   "execution_count": 29,
   "metadata": {},
   "outputs": [
    {
     "data": {
      "text/plain": [
       "<seaborn.axisgrid.FacetGrid at 0x1f9eb4dd0c8>"
      ]
     },
     "execution_count": 29,
     "metadata": {},
     "output_type": "execute_result"
    },
    {
     "data": {
      "image/png": "[encoded data removed]",
      "text/plain": [
       "<Figure size 1800x360 with 1 Axes>"
      ]
     },
     "metadata": {
      "needs_background": "light"
     },
     "output_type": "display_data"
    }
   ],
   "source": [
    "sns.catplot(x='Province_State',y='Deaths',data=df_new,kind='bar',aspect=5)"
   ]
  },
  {
   "cell_type": "code",
   "execution_count": 30,
   "metadata": {},
   "outputs": [
    {
     "data": {
      "text/plain": [
       "<seaborn.axisgrid.FacetGrid at 0x1f9eb524b88>"
      ]
     },
     "execution_count": 30,
     "metadata": {},
     "output_type": "execute_result"
    },
    {
     "data": {
      "image/png": "[encoded data removed]",
      "text/plain": [
       "<Figure size 1800x360 with 1 Axes>"
      ]
     },
     "metadata": {
      "needs_background": "light"
     },
     "output_type": "display_data"
    }
   ],
   "source": [
    "sns.catplot(x='Confirmed',y='Deaths',data=df_new,kind='bar',aspect=5)"
   ]
  },
  {
   "cell_type": "code",
   "execution_count": 31,
   "metadata": {},
   "outputs": [
    {
     "data": {
      "text/plain": [
       "<seaborn.axisgrid.FacetGrid at 0x1f9eb1cf648>"
      ]
     },
     "execution_count": 31,
     "metadata": {},
     "output_type": "execute_result"
    },
    {
     "data": {
      "image/png": "[encoded data removed]",
      "text/plain": [
       "<Figure size 1800x360 with 1 Axes>"
      ]
     },
     "metadata": {
      "needs_background": "light"
     },
     "output_type": "display_data"
    }
   ],
   "source": [
    "sns.catplot(x='Confirmed',y='Recovered',data=df_new,kind='bar',aspect=5)"
   ]
  },
  {
   "cell_type": "code",
   "execution_count": 32,
   "metadata": {},
   "outputs": [
    {
     "data": {
      "text/plain": [
       "<seaborn.axisgrid.FacetGrid at 0x1f9eb6e4048>"
      ]
     },
     "execution_count": 32,
     "metadata": {},
     "output_type": "execute_result"
    },
    {
     "data": {
      "image/png": "[encoded data removed]",
      "text/plain": [
       "<Figure size 1800x360 with 1 Axes>"
      ]
     },
     "metadata": {
      "needs_background": "light"
     },
     "output_type": "display_data"
    }
   ],
   "source": [
    "sns.catplot(x='Confirmed',y='Active',data=df_new,kind='bar',aspect=5)"
   ]
  },
  {
   "cell_type": "code",
   "execution_count": 42,
   "metadata": {},
   "outputs": [
    {
     "data": {
      "text/plain": [
       "<seaborn.axisgrid.FacetGrid at 0x1f9eecf01c8>"
      ]
     },
     "execution_count": 42,
     "metadata": {},
     "output_type": "execute_result"
    },
    {
     "data": {
      "image/png": "[encoded data removed]",
      "text/plain": [
       "<Figure size 1800x360 with 1 Axes>"
      ]
     },
     "metadata": {
      "needs_background": "light"
     },
     "output_type": "display_data"
    }
   ],
   "source": [
    "sns.catplot(x='Confirmed',y='Mortality_Rate',data=df_new,kind='point',aspect=5)"
   ]
  },
  {
   "cell_type": "markdown",
   "metadata": {},
   "source": [
    "# preprocessing the data"
   ]
  },
  {
   "cell_type": "code",
   "execution_count": 49,
   "metadata": {},
   "outputs": [
    {
     "data": {
      "text/plain": [
       "Index(['Province_State', 'Country_Region', 'Confirmed', 'Deaths', 'Recovered',\n",
       "       'Active', 'FIPS', 'Incident_Rate', 'People_Tested',\n",
       "       'People_Hospitalized', 'Mortality_Rate', 'ISO3', 'Testing_Rate',\n",
       "       'Hospitalization_Rate'],\n",
       "      dtype='object')"
      ]
     },
     "execution_count": 49,
     "metadata": {},
     "output_type": "execute_result"
    }
   ],
   "source": [
    "df_new.columns"
   ]
  },
  {
   "cell_type": "markdown",
   "metadata": {},
   "source": [
    "I Have removed 4 columns from the data which are useless for  us."
   ]
  },
  {
   "cell_type": "code",
   "execution_count": 50,
   "metadata": {},
   "outputs": [],
   "source": [
    "# importing library to encode string varibles into integers\n",
    "\n",
    "from sklearn.preprocessing import LabelEncoder\n",
    "le=LabelEncoder()\n",
    "\n",
    "df_new['Province_State']=le.fit_transform(df_new['Province_State'])\n",
    "df_new['Country_Region']=le.fit_transform(df_new['Country_Region'])\n",
    "df_new['ISO3']=le.fit_transform(df_new['ISO3'])"
   ]
  },
  {
   "cell_type": "code",
   "execution_count": 51,
   "metadata": {},
   "outputs": [
    {
     "data": {
      "text/html": [
       "<div>\n",
       "<style scoped>\n",
       "    .dataframe tbody tr th:only-of-type {\n",
       "        vertical-align: middle;\n",
       "    }\n",
       "\n",
       "    .dataframe tbody tr th {\n",
       "        vertical-align: top;\n",
       "    }\n",
       "\n",
       "    .dataframe thead th {\n",
       "        text-align: right;\n",
       "    }\n",
       "</style>\n",
       "<table border=\"1\" class=\"dataframe\">\n",
       "  <thead>\n",
       "    <tr style=\"text-align: right;\">\n",
       "      <th></th>\n",
       "      <th>Province_State</th>\n",
       "      <th>Country_Region</th>\n",
       "      <th>Confirmed</th>\n",
       "      <th>Deaths</th>\n",
       "      <th>Recovered</th>\n",
       "      <th>Active</th>\n",
       "      <th>FIPS</th>\n",
       "      <th>Incident_Rate</th>\n",
       "      <th>People_Tested</th>\n",
       "      <th>People_Hospitalized</th>\n",
       "      <th>Mortality_Rate</th>\n",
       "      <th>ISO3</th>\n",
       "      <th>Testing_Rate</th>\n",
       "      <th>Hospitalization_Rate</th>\n",
       "    </tr>\n",
       "  </thead>\n",
       "  <tbody>\n",
       "    <tr>\n",
       "      <th>0</th>\n",
       "      <td>0</td>\n",
       "      <td>0</td>\n",
       "      <td>13052</td>\n",
       "      <td>522</td>\n",
       "      <td>352.0</td>\n",
       "      <td>12530.0</td>\n",
       "      <td>1</td>\n",
       "      <td>266.194321</td>\n",
       "      <td>164450.0</td>\n",
       "      <td>1493.0</td>\n",
       "      <td>3.999387</td>\n",
       "      <td>4</td>\n",
       "      <td>3353.942386</td>\n",
       "      <td>11.438860</td>\n",
       "    </tr>\n",
       "    <tr>\n",
       "      <th>1</th>\n",
       "      <td>1</td>\n",
       "      <td>0</td>\n",
       "      <td>401</td>\n",
       "      <td>10</td>\n",
       "      <td>352.0</td>\n",
       "      <td>39.0</td>\n",
       "      <td>2</td>\n",
       "      <td>54.815493</td>\n",
       "      <td>37045.0</td>\n",
       "      <td>1493.0</td>\n",
       "      <td>2.493766</td>\n",
       "      <td>4</td>\n",
       "      <td>5063.940017</td>\n",
       "      <td>11.438860</td>\n",
       "    </tr>\n",
       "    <tr>\n",
       "      <th>2</th>\n",
       "      <td>2</td>\n",
       "      <td>0</td>\n",
       "      <td>0</td>\n",
       "      <td>0</td>\n",
       "      <td>352.0</td>\n",
       "      <td>0.0</td>\n",
       "      <td>60</td>\n",
       "      <td>0.000000</td>\n",
       "      <td>124.0</td>\n",
       "      <td>1493.0</td>\n",
       "      <td>2.493766</td>\n",
       "      <td>0</td>\n",
       "      <td>222.857246</td>\n",
       "      <td>11.438860</td>\n",
       "    </tr>\n",
       "    <tr>\n",
       "      <th>3</th>\n",
       "      <td>3</td>\n",
       "      <td>0</td>\n",
       "      <td>14906</td>\n",
       "      <td>747</td>\n",
       "      <td>3773.0</td>\n",
       "      <td>10386.0</td>\n",
       "      <td>4</td>\n",
       "      <td>204.788838</td>\n",
       "      <td>165435.0</td>\n",
       "      <td>1792.0</td>\n",
       "      <td>5.011405</td>\n",
       "      <td>4</td>\n",
       "      <td>2272.859351</td>\n",
       "      <td>12.022005</td>\n",
       "    </tr>\n",
       "    <tr>\n",
       "      <th>4</th>\n",
       "      <td>4</td>\n",
       "      <td>0</td>\n",
       "      <td>5003</td>\n",
       "      <td>107</td>\n",
       "      <td>3852.0</td>\n",
       "      <td>1044.0</td>\n",
       "      <td>5</td>\n",
       "      <td>165.782801</td>\n",
       "      <td>96258.0</td>\n",
       "      <td>535.0</td>\n",
       "      <td>2.138717</td>\n",
       "      <td>4</td>\n",
       "      <td>3189.670370</td>\n",
       "      <td>10.693584</td>\n",
       "    </tr>\n",
       "  </tbody>\n",
       "</table>\n",
       "</div>"
      ],
      "text/plain": [
       "   Province_State  Country_Region  Confirmed  Deaths  Recovered   Active  \\\n",
       "0               0               0      13052     522      352.0  12530.0   \n",
       "1               1               0        401      10      352.0     39.0   \n",
       "2               2               0          0       0      352.0      0.0   \n",
       "3               3               0      14906     747     3773.0  10386.0   \n",
       "4               4               0       5003     107     3852.0   1044.0   \n",
       "\n",
       "   FIPS  Incident_Rate  People_Tested  People_Hospitalized  Mortality_Rate  \\\n",
       "0     1     266.194321       164450.0               1493.0        3.999387   \n",
       "1     2      54.815493        37045.0               1493.0        2.493766   \n",
       "2    60       0.000000          124.0               1493.0        2.493766   \n",
       "3     4     204.788838       165435.0               1792.0        5.011405   \n",
       "4     5     165.782801        96258.0                535.0        2.138717   \n",
       "\n",
       "   ISO3  Testing_Rate  Hospitalization_Rate  \n",
       "0     4   3353.942386             11.438860  \n",
       "1     4   5063.940017             11.438860  \n",
       "2     0    222.857246             11.438860  \n",
       "3     4   2272.859351             12.022005  \n",
       "4     4   3189.670370             10.693584  "
      ]
     },
     "execution_count": 51,
     "metadata": {},
     "output_type": "execute_result"
    }
   ],
   "source": [
    "df_new.head()"
   ]
  },
  {
   "cell_type": "code",
   "execution_count": 52,
   "metadata": {},
   "outputs": [
    {
     "data": {
      "text/plain": [
       "Province_State            int64\n",
       "Country_Region            int64\n",
       "Confirmed                 int64\n",
       "Deaths                    int64\n",
       "Recovered               float64\n",
       "Active                  float64\n",
       "FIPS                      int64\n",
       "Incident_Rate           float64\n",
       "People_Tested           float64\n",
       "People_Hospitalized     float64\n",
       "Mortality_Rate          float64\n",
       "ISO3                      int32\n",
       "Testing_Rate            float64\n",
       "Hospitalization_Rate    float64\n",
       "dtype: object"
      ]
     },
     "execution_count": 52,
     "metadata": {},
     "output_type": "execute_result"
    }
   ],
   "source": [
    "# Checking the data type\n",
    "\n",
    "df_new.dtypes"
   ]
  },
  {
   "cell_type": "code",
   "execution_count": 54,
   "metadata": {},
   "outputs": [
    {
     "data": {
      "text/plain": [
       "array([[<matplotlib.axes._subplots.AxesSubplot object at 0x000001F9F0791A48>,\n",
       "        <matplotlib.axes._subplots.AxesSubplot object at 0x000001F9F07BF6C8>,\n",
       "        <matplotlib.axes._subplots.AxesSubplot object at 0x000001F9F07F3788>,\n",
       "        <matplotlib.axes._subplots.AxesSubplot object at 0x000001F9F0829088>],\n",
       "       [<matplotlib.axes._subplots.AxesSubplot object at 0x000001F9F085AC48>,\n",
       "        <matplotlib.axes._subplots.AxesSubplot object at 0x000001F9F08919C8>,\n",
       "        <matplotlib.axes._subplots.AxesSubplot object at 0x000001F9F08CA748>,\n",
       "        <matplotlib.axes._subplots.AxesSubplot object at 0x000001F9F08FF4C8>],\n",
       "       [<matplotlib.axes._subplots.AxesSubplot object at 0x000001F9F0907348>,\n",
       "        <matplotlib.axes._subplots.AxesSubplot object at 0x000001F9F093F2C8>,\n",
       "        <matplotlib.axes._subplots.AxesSubplot object at 0x000001F9F09A4208>,\n",
       "        <matplotlib.axes._subplots.AxesSubplot object at 0x000001F9F09DC308>],\n",
       "       [<matplotlib.axes._subplots.AxesSubplot object at 0x000001F9F0A15448>,\n",
       "        <matplotlib.axes._subplots.AxesSubplot object at 0x000001F9F0A4E588>,\n",
       "        <matplotlib.axes._subplots.AxesSubplot object at 0x000001F9F0A85608>,\n",
       "        <matplotlib.axes._subplots.AxesSubplot object at 0x000001F9F0ABE7C8>]],\n",
       "      dtype=object)"
      ]
     },
     "execution_count": 54,
     "metadata": {},
     "output_type": "execute_result"
    },
    {
     "data": {
      "image/png": "[encoded data removed]",
      "text/plain": [
       "<Figure size 1080x1080 with 16 Axes>"
      ]
     },
     "metadata": {
      "needs_background": "light"
     },
     "output_type": "display_data"
    }
   ],
   "source": [
    "df_new.hist(figsize=(15,15),layout=(4,4))"
   ]
  },
  {
   "cell_type": "code",
   "execution_count": 56,
   "metadata": {},
   "outputs": [],
   "source": [
    "df=df_new"
   ]
  },
  {
   "cell_type": "code",
   "execution_count": 57,
   "metadata": {},
   "outputs": [],
   "source": [
    "# Lets divide the data in to  input and target variables\n",
    "\n",
    "x=df.drop([\"Deaths\"],axis=1)\n",
    "\n",
    "y=df[\"Deaths\"]"
   ]
  },
  {
   "cell_type": "code",
   "execution_count": 58,
   "metadata": {},
   "outputs": [],
   "source": [
    "# normalizing the data\n",
    "\n",
    "from sklearn.preprocessing import StandardScaler\n",
    "ss=StandardScaler()\n",
    "x=ss.fit_transform(x)"
   ]
  },
  {
   "cell_type": "markdown",
   "metadata": {},
   "source": [
    "# Importing Libraries for model selection"
   ]
  },
  {
   "cell_type": "code",
   "execution_count": 59,
   "metadata": {},
   "outputs": [],
   "source": [
    "from sklearn.model_selection import train_test_split,cross_val_score\n",
    "from sklearn.linear_model import LinearRegression\n",
    "from sklearn.linear_model import Lasso\n",
    "from sklearn.linear_model import Ridge\n",
    "from sklearn.neighbors import KNeighborsRegressor\n",
    "from sklearn.svm import SVR\n",
    "from sklearn.tree import DecisionTreeRegressor\n",
    "from sklearn.ensemble import RandomForestRegressor\n",
    "from sklearn.ensemble import GradientBoostingRegressor\n",
    "from sklearn.ensemble import AdaBoostRegressor\n",
    "from sklearn.metrics import mean_squared_error,mean_absolute_error,r2_score\n",
    "\n",
    "x_train,x_test,y_train,y_test=train_test_split(x,y,test_size=0.2,random_state=50)"
   ]
  },
  {
   "cell_type": "code",
   "execution_count": 60,
   "metadata": {},
   "outputs": [
    {
     "name": "stdout",
     "output_type": "stream",
     "text": [
      "(46, 13)\n",
      "(46,)\n",
      "(12, 13)\n",
      "(12,)\n"
     ]
    }
   ],
   "source": [
    "print(x_train.shape)\n",
    "print(y_train.shape)\n",
    "print(x_test.shape)\n",
    "print(y_test.shape)"
   ]
  },
  {
   "cell_type": "code",
   "execution_count": 61,
   "metadata": {},
   "outputs": [
    {
     "name": "stdout",
     "output_type": "stream",
     "text": [
      "r2_score corresponding to random state  42 is:  0.7330548268715014\n",
      "r2_score corresponding to random state  43 is:  -0.4917164769945761\n",
      "r2_score corresponding to random state  44 is:  0.8989831822746263\n",
      "r2_score corresponding to random state  45 is:  0.5122164338807477\n",
      "r2_score corresponding to random state  46 is:  0.30061663544087247\n",
      "r2_score corresponding to random state  47 is:  0.9701379365924645\n",
      "r2_score corresponding to random state  48 is:  0.9139931709257155\n",
      "r2_score corresponding to random state  49 is:  0.9428105710777382\n",
      "r2_score corresponding to random state  50 is:  -0.42848861081155176\n",
      "r2_score corresponding to random state  51 is:  0.803648834464698\n",
      "r2_score corresponding to random state  52 is:  0.9823643466915684\n",
      "r2_score corresponding to random state  53 is:  0.940384998288661\n",
      "r2_score corresponding to random state  54 is:  0.916938391587982\n",
      "r2_score corresponding to random state  55 is:  0.9572737277234195\n",
      "r2_score corresponding to random state  56 is:  0.6700737600817666\n",
      "r2_score corresponding to random state  57 is:  0.9656555993388122\n",
      "r2_score corresponding to random state  58 is:  0.7774281227439657\n",
      "r2_score corresponding to random state  59 is:  0.7654401396090142\n",
      "r2_score corresponding to random state  60 is:  0.564459268711121\n",
      "r2_score corresponding to random state  61 is:  -0.15374381337100784\n",
      "r2_score corresponding to random state  62 is:  0.734132608044286\n",
      "r2_score corresponding to random state  63 is:  0.9769841850084778\n",
      "r2_score corresponding to random state  64 is:  -313.5752791524621\n",
      "r2_score corresponding to random state  65 is:  0.9283096505646311\n",
      "r2_score corresponding to random state  66 is:  0.8946222980848911\n",
      "r2_score corresponding to random state  67 is:  -4.821654848928525\n",
      "r2_score corresponding to random state  68 is:  0.9371648703117441\n",
      "r2_score corresponding to random state  69 is:  0.9575326067273813\n",
      "r2_score corresponding to random state  70 is:  0.5830165840672883\n",
      "r2_score corresponding to random state  71 is:  0.5695351650076439\n",
      "r2_score corresponding to random state  72 is:  -164.01820555279042\n",
      "r2_score corresponding to random state  73 is:  0.9488006524879196\n",
      "r2_score corresponding to random state  74 is:  0.9739632015399885\n",
      "r2_score corresponding to random state  75 is:  0.034553432033523124\n",
      "r2_score corresponding to random state  76 is:  0.9367315004330604\n",
      "r2_score corresponding to random state  77 is:  0.9845040377013909\n",
      "r2_score corresponding to random state  78 is:  0.7370964823359849\n",
      "r2_score corresponding to random state  79 is:  0.8614146441839563\n",
      "r2_score corresponding to random state  80 is:  0.968500672842727\n",
      "r2_score corresponding to random state  81 is:  0.9446688277708859\n",
      "r2_score corresponding to random state  82 is:  0.8404414523108573\n",
      "r2_score corresponding to random state  83 is:  0.8163709855024885\n",
      "r2_score corresponding to random state  84 is:  0.961698346287298\n",
      "r2_score corresponding to random state  85 is:  0.8714328179556678\n",
      "r2_score corresponding to random state  86 is:  0.9148376006630937\n",
      "r2_score corresponding to random state  87 is:  0.7360343283403308\n",
      "r2_score corresponding to random state  88 is:  0.9775263278778692\n",
      "r2_score corresponding to random state  89 is:  0.9556173021762406\n",
      "r2_score corresponding to random state  90 is:  0.9361305243822586\n",
      "r2_score corresponding to random state  91 is:  -103873.75861719443\n",
      "r2_score corresponding to random state  92 is:  0.8998646427777626\n",
      "r2_score corresponding to random state  93 is:  0.9556592480003527\n",
      "r2_score corresponding to random state  94 is:  0.9680620584317802\n",
      "r2_score corresponding to random state  95 is:  0.6540593938698807\n",
      "r2_score corresponding to random state  96 is:  0.943588837380887\n",
      "r2_score corresponding to random state  97 is:  0.9660276354320849\n",
      "r2_score corresponding to random state  98 is:  0.9761747075902747\n",
      "r2_score corresponding to random state  99 is:  0.9153058180402686\n",
      "r2_score corresponding to random state  100 is:  0.38637103517024085\n",
      "Max r2 score corresponding to  77  is 0.9845040377013909\n"
     ]
    }
   ],
   "source": [
    "# for finding best random state  as parameter\n",
    "\n",
    "max_r_score=0\n",
    "for r_state in range(42,101):\n",
    "        x_train, x_test, y_train, y_test = train_test_split(x, y,random_state = r_state,test_size=0.20)\n",
    "        lr=LinearRegression()\n",
    "        lr.fit(x_train,y_train)\n",
    "        y_pred = lr.predict(x_test)\n",
    "        r2_scr=r2_score(y_test,y_pred)\n",
    "        print(\"r2_score corresponding to random state \",r_state,\"is: \",r2_scr)\n",
    "        if r2_scr>max_r_score:\n",
    "            max_r_score=r2_scr\n",
    "            final_r_state=r_state\n",
    "print(\"Max r2 score corresponding to \",final_r_state,\" is\",max_r_score)"
   ]
  },
  {
   "cell_type": "markdown",
   "metadata": {},
   "source": [
    "As we can see that r2 score is highest at random state 77, so therfore we use this for further processing."
   ]
  },
  {
   "cell_type": "code",
   "execution_count": 62,
   "metadata": {},
   "outputs": [],
   "source": [
    "x_train,x_test,y_train,y_test=train_test_split(x,y,test_size=0.20,random_state=77)"
   ]
  },
  {
   "cell_type": "code",
   "execution_count": 63,
   "metadata": {},
   "outputs": [],
   "source": [
    "LR=LinearRegression()\n",
    "LS=Lasso(random_state=77)\n",
    "RD=Ridge(random_state=77)\n",
    "KNR=KNeighborsRegressor()\n",
    "SV=SVR()\n",
    "DTR=DecisionTreeRegressor(random_state=77)\n",
    "RFR=RandomForestRegressor(random_state=77)\n",
    "GBR=GradientBoostingRegressor(random_state=77)\n",
    "ABR=AdaBoostRegressor(random_state=77)"
   ]
  },
  {
   "cell_type": "code",
   "execution_count": 64,
   "metadata": {},
   "outputs": [],
   "source": [
    "models = []\n",
    "models.append(('LinearRegression', LR))\n",
    "models.append(('Lasso',LS))\n",
    "models.append(('Ridge',RD))\n",
    "models.append(('KNeighborseRegressor',KNR))\n",
    "models.append(('SVR', SV))\n",
    "models.append(('DecisionTreeRegressor', DTR))\n",
    "models.append(('RandomForestRegressor', RFR))\n",
    "models.append(('GradientBoostingRegressor', GBR))\n",
    "models.append(('AdaBoostRegressor',ABR))"
   ]
  },
  {
   "cell_type": "code",
   "execution_count": 67,
   "metadata": {},
   "outputs": [
    {
     "name": "stdout",
     "output_type": "stream",
     "text": [
      "********************************* LinearRegression *********************************\n",
      "\n",
      " LinearRegression(copy_X=True, fit_intercept=True, n_jobs=None, normalize=False)\n",
      "R2_score =  0.9845040377013909\n",
      "Mean_Squared_Error = 168934.5226095839\n",
      "Root Mean Square Error =  411.01645053401927\n",
      "Cross_Val_Score =  0.5106181133136273\n",
      "\n",
      "\n",
      "\n",
      "********************************* Lasso *********************************\n",
      "\n",
      " Lasso(alpha=1.0, copy_X=True, fit_intercept=True, max_iter=1000,\n",
      "      normalize=False, positive=False, precompute=False, random_state=77,\n",
      "      selection='cyclic', tol=0.0001, warm_start=False)\n",
      "R2_score =  0.9840646480919845\n",
      "Mean_Squared_Error = 173724.67842400257\n",
      "Root Mean Square Error =  416.8029251624832\n",
      "Cross_Val_Score =  0.48256126075112665\n",
      "\n",
      "\n",
      "\n",
      "********************************* Ridge *********************************\n",
      "\n",
      " Ridge(alpha=1.0, copy_X=True, fit_intercept=True, max_iter=None,\n",
      "      normalize=False, random_state=77, solver='auto', tol=0.001)\n",
      "R2_score =  0.985377101423973\n",
      "Mean_Squared_Error = 159416.52041391603\n",
      "Root Mean Square Error =  399.2699843638588\n",
      "Cross_Val_Score =  0.3854551055739076\n",
      "\n",
      "\n",
      "\n",
      "********************************* KNeighborseRegressor *********************************\n",
      "\n",
      " KNeighborsRegressor(algorithm='auto', leaf_size=30, metric='minkowski',\n",
      "                    metric_params=None, n_jobs=None, n_neighbors=5, p=2,\n",
      "                    weights='uniform')\n",
      "R2_score =  0.4295987266753494\n",
      "Mean_Squared_Error = 6218424.19\n",
      "Root Mean Square Error =  2493.6768415334013\n",
      "Cross_Val_Score =  0.5786926056886672\n",
      "\n",
      "\n",
      "\n",
      "********************************* SVR *********************************\n",
      "\n",
      " SVR(C=1.0, cache_size=200, coef0=0.0, degree=3, epsilon=0.1, gamma='scale',\n",
      "    kernel='rbf', max_iter=-1, shrinking=True, tol=0.001, verbose=False)\n",
      "R2_score =  -0.23287358051446416\n",
      "Mean_Squared_Error = 13440592.184512114\n",
      "Root Mean Square Error =  3666.1413208593194\n",
      "Cross_Val_Score =  -0.18993986319209874\n",
      "\n",
      "\n",
      "\n",
      "********************************* DecisionTreeRegressor *********************************\n",
      "\n",
      " DecisionTreeRegressor(ccp_alpha=0.0, criterion='mse', max_depth=None,\n",
      "                      max_features=None, max_leaf_nodes=None,\n",
      "                      min_impurity_decrease=0.0, min_impurity_split=None,\n",
      "                      min_samples_leaf=1, min_samples_split=2,\n",
      "                      min_weight_fraction_leaf=0.0, presort='deprecated',\n",
      "                      random_state=77, splitter='best')\n",
      "R2_score =  0.5546670197925375\n",
      "Mean_Squared_Error = 4854949.5\n",
      "Root Mean Square Error =  2203.3949940943407\n",
      "Cross_Val_Score =  -6.331604398541731\n",
      "\n",
      "\n",
      "\n",
      "********************************* RandomForestRegressor *********************************\n",
      "\n",
      " RandomForestRegressor(bootstrap=True, ccp_alpha=0.0, criterion='mse',\n",
      "                      max_depth=None, max_features='auto', max_leaf_nodes=None,\n",
      "                      max_samples=None, min_impurity_decrease=0.0,\n",
      "                      min_impurity_split=None, min_samples_leaf=1,\n",
      "                      min_samples_split=2, min_weight_fraction_leaf=0.0,\n",
      "                      n_estimators=100, n_jobs=None, oob_score=False,\n",
      "                      random_state=77, verbose=0, warm_start=False)\n"
     ]
    },
    {
     "name": "stderr",
     "output_type": "stream",
     "text": [
      "C:\\Users\\Amit\\Anaconda3\\lib\\site-packages\\sklearn\\linear_model\\_coordinate_descent.py:476: ConvergenceWarning: Objective did not converge. You might want to increase the number of iterations. Duality gap: 984537.6114606801, tolerance: 81791.78139130434\n",
      "  positive)\n",
      "C:\\Users\\Amit\\Anaconda3\\lib\\site-packages\\sklearn\\linear_model\\_coordinate_descent.py:476: ConvergenceWarning: Objective did not converge. You might want to increase the number of iterations. Duality gap: 1721034.062252548, tolerance: 82154.43027173913\n",
      "  positive)\n",
      "C:\\Users\\Amit\\Anaconda3\\lib\\site-packages\\sklearn\\linear_model\\_coordinate_descent.py:476: ConvergenceWarning: Objective did not converge. You might want to increase the number of iterations. Duality gap: 798136.3008442521, tolerance: 92905.80332765958\n",
      "  positive)\n"
     ]
    },
    {
     "name": "stdout",
     "output_type": "stream",
     "text": [
      "R2_score =  0.6504834364806319\n",
      "Mean_Squared_Error = 3810374.126141668\n",
      "Root Mean Square Error =  1952.0179625561\n",
      "Cross_Val_Score =  -0.07972015390771174\n",
      "\n",
      "\n",
      "\n",
      "********************************* GradientBoostingRegressor *********************************\n",
      "\n",
      " GradientBoostingRegressor(alpha=0.9, ccp_alpha=0.0, criterion='friedman_mse',\n",
      "                          init=None, learning_rate=0.1, loss='ls', max_depth=3,\n",
      "                          max_features=None, max_leaf_nodes=None,\n",
      "                          min_impurity_decrease=0.0, min_impurity_split=None,\n",
      "                          min_samples_leaf=1, min_samples_split=2,\n",
      "                          min_weight_fraction_leaf=0.0, n_estimators=100,\n",
      "                          n_iter_no_change=None, presort='deprecated',\n",
      "                          random_state=77, subsample=1.0, tol=0.0001,\n",
      "                          validation_fraction=0.1, verbose=0, warm_start=False)\n",
      "R2_score =  0.9246063764128185\n",
      "Mean_Squared_Error = 821929.3234632108\n",
      "Root Mean Square Error =  906.6031786085965\n",
      "Cross_Val_Score =  -0.10567858843666889\n",
      "\n",
      "\n",
      "\n",
      "********************************* AdaBoostRegressor *********************************\n",
      "\n",
      " AdaBoostRegressor(base_estimator=None, learning_rate=1.0, loss='linear',\n",
      "                  n_estimators=50, random_state=77)\n",
      "R2_score =  0.5502919429540203\n",
      "Mean_Squared_Error = 4902645.893605805\n",
      "Root Mean Square Error =  2214.1919279063873\n",
      "Cross_Val_Score =  -0.16430316570360706\n",
      "\n",
      "\n",
      "\n"
     ]
    }
   ],
   "source": [
    "Model=[]\n",
    "R2_score=[]\n",
    "cvs=[]\n",
    "MSE=[]\n",
    "RMSE=[]\n",
    "for name,model in models:\n",
    "    print('*********************************',name,'*********************************')\n",
    "    print('\\n',model)\n",
    "    Model.append(name)\n",
    "    model.fit(x_train,y_train)\n",
    "    pred=model.predict(x_test)\n",
    "    \n",
    "    r2_scr=r2_score(y_test,pred)\n",
    "    print('R2_score = ',r2_scr)\n",
    "    R2_score.append(r2_scr)\n",
    "    \n",
    "    mse=mean_squared_error(y_test,pred)\n",
    "    print(\"Mean_Squared_Error =\",mse)\n",
    "    MSE.append(mse)\n",
    "    \n",
    "    rmse=np.sqrt(mean_squared_error(y_test,pred))\n",
    "    print(\"Root Mean Square Error = \",rmse)\n",
    "    RMSE.append(rmse) \n",
    "    \n",
    "    \n",
    "    score= cross_val_score(model,x,y,cv=5,scoring='r2').mean()\n",
    "    print('Cross_Val_Score = ',score)\n",
    "    cvs.append(score)\n",
    "    print('\\n\\n')\n"
   ]
  },
  {
   "cell_type": "code",
   "execution_count": 68,
   "metadata": {},
   "outputs": [
    {
     "data": {
      "text/html": [
       "<div>\n",
       "<style scoped>\n",
       "    .dataframe tbody tr th:only-of-type {\n",
       "        vertical-align: middle;\n",
       "    }\n",
       "\n",
       "    .dataframe tbody tr th {\n",
       "        vertical-align: top;\n",
       "    }\n",
       "\n",
       "    .dataframe thead th {\n",
       "        text-align: right;\n",
       "    }\n",
       "</style>\n",
       "<table border=\"1\" class=\"dataframe\">\n",
       "  <thead>\n",
       "    <tr style=\"text-align: right;\">\n",
       "      <th></th>\n",
       "      <th>Model</th>\n",
       "      <th>R2_score</th>\n",
       "      <th>Mean_Squared_Error</th>\n",
       "      <th>Root Mean Square Error</th>\n",
       "      <th>Cross_val_score</th>\n",
       "    </tr>\n",
       "  </thead>\n",
       "  <tbody>\n",
       "    <tr>\n",
       "      <th>0</th>\n",
       "      <td>LinearRegression</td>\n",
       "      <td>0.984504</td>\n",
       "      <td>1.689345e+05</td>\n",
       "      <td>411.016451</td>\n",
       "      <td>0.510618</td>\n",
       "    </tr>\n",
       "    <tr>\n",
       "      <th>1</th>\n",
       "      <td>Lasso</td>\n",
       "      <td>0.984065</td>\n",
       "      <td>1.737247e+05</td>\n",
       "      <td>416.802925</td>\n",
       "      <td>0.482561</td>\n",
       "    </tr>\n",
       "    <tr>\n",
       "      <th>2</th>\n",
       "      <td>Ridge</td>\n",
       "      <td>0.985377</td>\n",
       "      <td>1.594165e+05</td>\n",
       "      <td>399.269984</td>\n",
       "      <td>0.385455</td>\n",
       "    </tr>\n",
       "    <tr>\n",
       "      <th>3</th>\n",
       "      <td>KNeighborseRegressor</td>\n",
       "      <td>0.429599</td>\n",
       "      <td>6.218424e+06</td>\n",
       "      <td>2493.676842</td>\n",
       "      <td>0.578693</td>\n",
       "    </tr>\n",
       "    <tr>\n",
       "      <th>4</th>\n",
       "      <td>SVR</td>\n",
       "      <td>-0.232874</td>\n",
       "      <td>1.344059e+07</td>\n",
       "      <td>3666.141321</td>\n",
       "      <td>-0.189940</td>\n",
       "    </tr>\n",
       "    <tr>\n",
       "      <th>5</th>\n",
       "      <td>DecisionTreeRegressor</td>\n",
       "      <td>0.554667</td>\n",
       "      <td>4.854950e+06</td>\n",
       "      <td>2203.394994</td>\n",
       "      <td>-6.331604</td>\n",
       "    </tr>\n",
       "    <tr>\n",
       "      <th>6</th>\n",
       "      <td>RandomForestRegressor</td>\n",
       "      <td>0.650483</td>\n",
       "      <td>3.810374e+06</td>\n",
       "      <td>1952.017963</td>\n",
       "      <td>-0.079720</td>\n",
       "    </tr>\n",
       "    <tr>\n",
       "      <th>7</th>\n",
       "      <td>GradientBoostingRegressor</td>\n",
       "      <td>0.924606</td>\n",
       "      <td>8.219293e+05</td>\n",
       "      <td>906.603179</td>\n",
       "      <td>-0.105679</td>\n",
       "    </tr>\n",
       "    <tr>\n",
       "      <th>8</th>\n",
       "      <td>AdaBoostRegressor</td>\n",
       "      <td>0.550292</td>\n",
       "      <td>4.902646e+06</td>\n",
       "      <td>2214.191928</td>\n",
       "      <td>-0.164303</td>\n",
       "    </tr>\n",
       "  </tbody>\n",
       "</table>\n",
       "</div>"
      ],
      "text/plain": [
       "                       Model  R2_score  Mean_Squared_Error  \\\n",
       "0           LinearRegression  0.984504        1.689345e+05   \n",
       "1                      Lasso  0.984065        1.737247e+05   \n",
       "2                      Ridge  0.985377        1.594165e+05   \n",
       "3       KNeighborseRegressor  0.429599        6.218424e+06   \n",
       "4                        SVR -0.232874        1.344059e+07   \n",
       "5      DecisionTreeRegressor  0.554667        4.854950e+06   \n",
       "6      RandomForestRegressor  0.650483        3.810374e+06   \n",
       "7  GradientBoostingRegressor  0.924606        8.219293e+05   \n",
       "8          AdaBoostRegressor  0.550292        4.902646e+06   \n",
       "\n",
       "   Root Mean Square Error  Cross_val_score  \n",
       "0              411.016451         0.510618  \n",
       "1              416.802925         0.482561  \n",
       "2              399.269984         0.385455  \n",
       "3             2493.676842         0.578693  \n",
       "4             3666.141321        -0.189940  \n",
       "5             2203.394994        -6.331604  \n",
       "6             1952.017963        -0.079720  \n",
       "7              906.603179        -0.105679  \n",
       "8             2214.191928        -0.164303  "
      ]
     },
     "execution_count": 68,
     "metadata": {},
     "output_type": "execute_result"
    }
   ],
   "source": [
    "result = pd.DataFrame({'Model': Model, 'R2_score': R2_score ,'Mean_Squared_Error' :MSE,'Root Mean Square Error': RMSE, 'Cross_val_score':cvs})\n",
    "result"
   ]
  },
  {
   "cell_type": "markdown",
   "metadata": {},
   "source": [
    "From here we can select Ridge as our final model as it has highest r2_score better cross value score then others."
   ]
  },
  {
   "cell_type": "code",
   "execution_count": 69,
   "metadata": {},
   "outputs": [
    {
     "name": "stderr",
     "output_type": "stream",
     "text": [
      "C:\\Users\\Amit\\Anaconda3\\lib\\site-packages\\sklearn\\externals\\joblib\\__init__.py:15: FutureWarning: sklearn.externals.joblib is deprecated in 0.21 and will be removed in 0.23. Please import this functionality directly from joblib, which can be installed with: pip install joblib. If this warning is raised when loading pickled models, you may need to re-serialize those models with scikit-learn 0.21+.\n",
      "  warnings.warn(msg, category=FutureWarning)\n"
     ]
    },
    {
     "data": {
      "text/plain": [
       "['us_covid_cases.obj']"
      ]
     },
     "execution_count": 69,
     "metadata": {},
     "output_type": "execute_result"
    }
   ],
   "source": [
    "# for saving our model\n",
    "\n",
    "from sklearn.externals import joblib\n",
    "joblib.dump(RD,\"us_covid_cases.obj\")"
   ]
  },
  {
   "cell_type": "code",
   "execution_count": 72,
   "metadata": {},
   "outputs": [
    {
     "data": {
      "text/plain": [
       "array([  392.15892086,  -267.88315886,   -87.26416722,  -396.72781628,\n",
       "          43.07534297,  6059.62380061, 11261.45604526,  -355.39113606,\n",
       "        -173.91407631,   236.40062526,  1034.85126763,  4106.42996141])"
      ]
     },
     "execution_count": 72,
     "metadata": {},
     "output_type": "execute_result"
    }
   ],
   "source": [
    "model=joblib.load(\"us_covid_cases.obj\")\n",
    "model.predict(x_test)"
   ]
  },
  {
   "cell_type": "markdown",
   "metadata": {},
   "source": [
    "# Complete\n"
   ]
  },
  {
   "cell_type": "code",
   "execution_count": null,
   "metadata": {},
   "outputs": [],
   "source": []
  }
 ],
 "metadata": {
  "kernelspec": {
   "display_name": "Python 3",
   "language": "python",
   "name": "python3"
  },
  "language_info": {
   "codemirror_mode": {
    "name": "ipython",
    "version": 3
   },
   "file_extension": ".py",
   "mimetype": "text/x-python",
   "name": "python",
   "nbconvert_exporter": "python",
   "pygments_lexer": "ipython3",
   "version": "3.7.6"
  }
 },
 "nbformat": 4,
 "nbformat_minor": 4
}
